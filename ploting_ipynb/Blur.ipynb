{
 "cells": [
  {
   "cell_type": "code",
   "execution_count": 2,
   "metadata": {},
   "outputs": [],
   "source": [
    "import cv2\n",
    "import numpy as np\n",
    "import os\n",
    "\n",
    "def calculate_blurness(image_path):\n",
    "    try:\n",
    "        # 读取图片\n",
    "        image = cv2.imread(image_path)\n",
    "        if image is None:\n",
    "            return None\n",
    "        \n",
    "        # 将图片转换为灰度图片\n",
    "        gray = cv2.cvtColor(image, cv2.COLOR_BGR2GRAY)\n",
    "        \n",
    "        # 计算拉普拉斯方差\n",
    "        fm = cv2.Laplacian(gray, cv2.CV_64F).var()\n",
    "        return fm\n",
    "    except Exception as e:\n",
    "        print(f\"Error processing {image_path}: {e}\")\n",
    "        return None\n",
    "\n",
    "def calculate_folder_blurness(folder_path):\n",
    "    total_blurness = 0\n",
    "    count = 0\n",
    "    # 遍历文件夹中的所有文件\n",
    "    for filename in os.listdir(folder_path):\n",
    "        if filename.lower().endswith(('.png', '.jpg', '.jpeg', '.bmp', '.gif')):\n",
    "            file_path = os.path.join(folder_path, filename)\n",
    "            blurness = calculate_blurness(file_path)\n",
    "            if blurness is not None:\n",
    "                total_blurness += blurness\n",
    "                count += 1\n",
    "    # 计算平均模糊度\n",
    "    average_blurness = total_blurness / count if count else 0\n",
    "    return average_blurness"
   ]
  },
  {
   "cell_type": "code",
   "execution_count": 4,
   "metadata": {},
   "outputs": [
    {
     "name": "stdout",
     "output_type": "stream",
     "text": [
      "The average blurness of the images in the folder is: 670.4839651633733\n"
     ]
    }
   ],
   "source": [
    "# 替换为你的图片文件夹路径\n",
    "folder_path = 'F:/code/mmclassification/data/carbonate_1/train/class1'\n",
    "average_blurness = calculate_folder_blurness(folder_path)\n",
    "print(f\"The average blurness of the images in the folder is: {average_blurness}\")"
   ]
  },
  {
   "cell_type": "code",
   "execution_count": 5,
   "metadata": {},
   "outputs": [
    {
     "name": "stdout",
     "output_type": "stream",
     "text": [
      "The average blurness of the images in the folder is: 501.3279812770335\n"
     ]
    }
   ],
   "source": [
    "# 替换为你的图片文件夹路径\n",
    "folder_path = 'F:/code/mmclassification/data/carbonate_1/train/class2'\n",
    "average_blurness = calculate_folder_blurness(folder_path)\n",
    "print(f\"The average blurness of the images in the folder is: {average_blurness}\")"
   ]
  },
  {
   "cell_type": "code",
   "execution_count": 6,
   "metadata": {},
   "outputs": [
    {
     "name": "stdout",
     "output_type": "stream",
     "text": [
      "The average blurness of the images in the folder is: 608.5110657878303\n"
     ]
    }
   ],
   "source": [
    "# 替换为你的图片文件夹路径\n",
    "folder_path = 'F:/code/mmclassification/data/carbonate_1/train/class3'\n",
    "average_blurness = calculate_folder_blurness(folder_path)\n",
    "print(f\"The average blurness of the images in the folder is: {average_blurness}\")"
   ]
  },
  {
   "cell_type": "code",
   "execution_count": 7,
   "metadata": {},
   "outputs": [
    {
     "name": "stdout",
     "output_type": "stream",
     "text": [
      "The average blurness of the images in the folder is: 103.01825128863175\n"
     ]
    }
   ],
   "source": [
    "# 替换为你的图片文件夹路径\n",
    "folder_path = 'F:/code/mmclassification/data/carbonate_1/train/class4'\n",
    "average_blurness = calculate_folder_blurness(folder_path)\n",
    "print(f\"The average blurness of the images in the folder is: {average_blurness}\")"
   ]
  },
  {
   "cell_type": "code",
   "execution_count": 8,
   "metadata": {},
   "outputs": [
    {
     "name": "stdout",
     "output_type": "stream",
     "text": [
      "The average blurness of the images in the folder is: 228.60764337515894\n"
     ]
    }
   ],
   "source": [
    "# 替换为你的图片文件夹路径\n",
    "folder_path = 'F:/code/mmclassification/data/carbonate_1/train/class5'\n",
    "average_blurness = calculate_folder_blurness(folder_path)\n",
    "print(f\"The average blurness of the images in the folder is: {average_blurness}\")"
   ]
  },
  {
   "cell_type": "code",
   "execution_count": 9,
   "metadata": {},
   "outputs": [
    {
     "name": "stdout",
     "output_type": "stream",
     "text": [
      "The average blurness of the images in the folder is: 371.43526544274\n"
     ]
    }
   ],
   "source": [
    "# 替换为你的图片文件夹路径\n",
    "folder_path = 'F:/code/mmclassification/data/carbonate_1/train/class6'\n",
    "average_blurness = calculate_folder_blurness(folder_path)\n",
    "print(f\"The average blurness of the images in the folder is: {average_blurness}\")"
   ]
  },
  {
   "cell_type": "code",
   "execution_count": 10,
   "metadata": {},
   "outputs": [
    {
     "name": "stdout",
     "output_type": "stream",
     "text": [
      "The average blurness of the images in the folder is: 282.27013511631634\n"
     ]
    }
   ],
   "source": [
    "# 替换为你的图片文件夹路径\n",
    "folder_path = 'F:/code/mmclassification/data/carbonate_1/train/class7'\n",
    "average_blurness = calculate_folder_blurness(folder_path)\n",
    "print(f\"The average blurness of the images in the folder is: {average_blurness}\")"
   ]
  },
  {
   "cell_type": "code",
   "execution_count": 11,
   "metadata": {},
   "outputs": [
    {
     "name": "stdout",
     "output_type": "stream",
     "text": [
      "The average blurness of the images in the folder is: 480.50013531805035\n"
     ]
    }
   ],
   "source": [
    "# 替换为你的图片文件夹路径\n",
    "folder_path = 'F:/code/mmclassification/data/carbonate_1/train/class8'\n",
    "average_blurness = calculate_folder_blurness(folder_path)\n",
    "print(f\"The average blurness of the images in the folder is: {average_blurness}\")"
   ]
  },
  {
   "cell_type": "code",
   "execution_count": 12,
   "metadata": {},
   "outputs": [
    {
     "name": "stdout",
     "output_type": "stream",
     "text": [
      "The average blurness of the images in the folder is: 1253.2512325320768\n"
     ]
    }
   ],
   "source": [
    "# 替换为你的图片文件夹路径\n",
    "folder_path = 'F:/code/mmclassification/data/carbonate_1/train/class9'\n",
    "average_blurness = calculate_folder_blurness(folder_path)\n",
    "print(f\"The average blurness of the images in the folder is: {average_blurness}\")"
   ]
  },
  {
   "cell_type": "code",
   "execution_count": 13,
   "metadata": {},
   "outputs": [
    {
     "name": "stdout",
     "output_type": "stream",
     "text": [
      "The average blurness of the images in the folder is: 311.5163045895603\n"
     ]
    }
   ],
   "source": [
    "# 替换为你的图片文件夹路径\n",
    "folder_path = 'F:/code/mmclassification/data/carbonate_1/train/class10'\n",
    "average_blurness = calculate_folder_blurness(folder_path)\n",
    "print(f\"The average blurness of the images in the folder is: {average_blurness}\")"
   ]
  },
  {
   "cell_type": "code",
   "execution_count": 14,
   "metadata": {},
   "outputs": [
    {
     "name": "stdout",
     "output_type": "stream",
     "text": [
      "The average blurness of the images in the folder is: 477.8389995100276\n"
     ]
    }
   ],
   "source": [
    "# 替换为你的图片文件夹路径\n",
    "folder_path = 'F:/code/mmclassification/data/carbonate_1/train/class11'\n",
    "average_blurness = calculate_folder_blurness(folder_path)\n",
    "print(f\"The average blurness of the images in the folder is: {average_blurness}\")"
   ]
  },
  {
   "cell_type": "code",
   "execution_count": 15,
   "metadata": {},
   "outputs": [
    {
     "name": "stdout",
     "output_type": "stream",
     "text": [
      "The average blurness of the images in the folder is: 360.0684455070761\n"
     ]
    }
   ],
   "source": [
    "# 替换为你的图片文件夹路径\n",
    "folder_path = 'F:/code/mmclassification/data/carbonate_1/train/class12'\n",
    "average_blurness = calculate_folder_blurness(folder_path)\n",
    "print(f\"The average blurness of the images in the folder is: {average_blurness}\")"
   ]
  },
  {
   "cell_type": "code",
   "execution_count": 16,
   "metadata": {},
   "outputs": [
    {
     "name": "stdout",
     "output_type": "stream",
     "text": [
      "The average blurness of the images in the folder is: 454.7371530160783\n"
     ]
    }
   ],
   "source": [
    "# 替换为你的图片文件夹路径\n",
    "folder_path = 'F:/code/mmclassification/data/carbonate_1/train/class13'\n",
    "average_blurness = calculate_folder_blurness(folder_path)\n",
    "print(f\"The average blurness of the images in the folder is: {average_blurness}\")"
   ]
  },
  {
   "cell_type": "code",
   "execution_count": 17,
   "metadata": {},
   "outputs": [
    {
     "name": "stdout",
     "output_type": "stream",
     "text": [
      "The average blurness of the images in the folder is: 238.41264218766983\n"
     ]
    }
   ],
   "source": [
    "# 替换为你的图片文件夹路径\n",
    "folder_path = 'F:/code/mmclassification/data/carbonate_1/train/class14'\n",
    "average_blurness = calculate_folder_blurness(folder_path)\n",
    "print(f\"The average blurness of the images in the folder is: {average_blurness}\")"
   ]
  },
  {
   "cell_type": "code",
   "execution_count": 18,
   "metadata": {},
   "outputs": [
    {
     "name": "stdout",
     "output_type": "stream",
     "text": [
      "The average blurness of the images in the folder is: 90.04511964842115\n"
     ]
    }
   ],
   "source": [
    "# 替换为你的图片文件夹路径\n",
    "folder_path = 'F:/code/mmclassification/data/carbonate_1/train/class15'\n",
    "average_blurness = calculate_folder_blurness(folder_path)\n",
    "print(f\"The average blurness of the images in the folder is: {average_blurness}\")"
   ]
  },
  {
   "cell_type": "code",
   "execution_count": 19,
   "metadata": {},
   "outputs": [
    {
     "name": "stdout",
     "output_type": "stream",
     "text": [
      "The average blurness of the images in the folder is: 1328.5167049368479\n"
     ]
    }
   ],
   "source": [
    "# 替换为你的图片文件夹路径\n",
    "folder_path = 'F:/code/mmclassification/data/carbonate_1/train/class16'\n",
    "average_blurness = calculate_folder_blurness(folder_path)\n",
    "print(f\"The average blurness of the images in the folder is: {average_blurness}\")"
   ]
  },
  {
   "cell_type": "code",
   "execution_count": 20,
   "metadata": {},
   "outputs": [
    {
     "name": "stdout",
     "output_type": "stream",
     "text": [
      "The average blurness of the images in the folder is: 760.0002689752126\n"
     ]
    }
   ],
   "source": [
    "# 替换为你的图片文件夹路径\n",
    "folder_path = 'F:/code/mmclassification/data/carbonate_1/train/class17'\n",
    "average_blurness = calculate_folder_blurness(folder_path)\n",
    "print(f\"The average blurness of the images in the folder is: {average_blurness}\")"
   ]
  },
  {
   "cell_type": "code",
   "execution_count": 21,
   "metadata": {},
   "outputs": [
    {
     "name": "stdout",
     "output_type": "stream",
     "text": [
      "The average blurness of the images in the folder is: 577.2770585557064\n"
     ]
    }
   ],
   "source": [
    "# 替换为你的图片文件夹路径\n",
    "folder_path = 'F:/code/mmclassification/data/carbonate_1/train/class18'\n",
    "average_blurness = calculate_folder_blurness(folder_path)\n",
    "print(f\"The average blurness of the images in the folder is: {average_blurness}\")"
   ]
  },
  {
   "cell_type": "code",
   "execution_count": 22,
   "metadata": {},
   "outputs": [
    {
     "name": "stdout",
     "output_type": "stream",
     "text": [
      "The average blurness of the images in the folder is: 1204.0583981660784\n"
     ]
    }
   ],
   "source": [
    "# 替换为你的图片文件夹路径\n",
    "folder_path = 'F:/code/mmclassification/data/carbonate_1/train/class19'\n",
    "average_blurness = calculate_folder_blurness(folder_path)\n",
    "print(f\"The average blurness of the images in the folder is: {average_blurness}\")"
   ]
  },
  {
   "cell_type": "code",
   "execution_count": 23,
   "metadata": {},
   "outputs": [
    {
     "name": "stdout",
     "output_type": "stream",
     "text": [
      "The average blurness of the images in the folder is: 554.8140280313753\n"
     ]
    }
   ],
   "source": [
    "# 替换为你的图片文件夹路径\n",
    "folder_path = 'F:/code/mmclassification/data/carbonate_1/train/class20'\n",
    "average_blurness = calculate_folder_blurness(folder_path)\n",
    "print(f\"The average blurness of the images in the folder is: {average_blurness}\")"
   ]
  },
  {
   "cell_type": "code",
   "execution_count": 24,
   "metadata": {},
   "outputs": [
    {
     "name": "stdout",
     "output_type": "stream",
     "text": [
      "The average blurness of the images in the folder is: 1017.9994822974573\n"
     ]
    }
   ],
   "source": [
    "# 替换为你的图片文件夹路径\n",
    "folder_path = 'F:/code/mmclassification/data/carbonate_1/train/class21'\n",
    "average_blurness = calculate_folder_blurness(folder_path)\n",
    "print(f\"The average blurness of the images in the folder is: {average_blurness}\")"
   ]
  },
  {
   "cell_type": "code",
   "execution_count": 25,
   "metadata": {},
   "outputs": [
    {
     "name": "stdout",
     "output_type": "stream",
     "text": [
      "The average blurness of the images in the folder is: 665.9096107315848\n"
     ]
    }
   ],
   "source": [
    "# 替换为你的图片文件夹路径\n",
    "folder_path = 'F:/code/mmclassification/data/carbonate_1/train/class22'\n",
    "average_blurness = calculate_folder_blurness(folder_path)\n",
    "print(f\"The average blurness of the images in the folder is: {average_blurness}\")"
   ]
  }
 ],
 "metadata": {
  "kernelspec": {
   "display_name": "jupyterlab",
   "language": "python",
   "name": "python3"
  },
  "language_info": {
   "codemirror_mode": {
    "name": "ipython",
    "version": 3
   },
   "file_extension": ".py",
   "mimetype": "text/x-python",
   "name": "python",
   "nbconvert_exporter": "python",
   "pygments_lexer": "ipython3",
   "version": "3.9.16"
  },
  "orig_nbformat": 4
 },
 "nbformat": 4,
 "nbformat_minor": 2
}
