{
 "cells": [
  {
   "cell_type": "code",
   "execution_count": 3,
   "metadata": {},
   "outputs": [],
   "source": [
    "from PIL import Image\n",
    "import os\n",
    "\n",
    "def calculate_average_brightness(image_path):\n",
    "    try:\n",
    "        with Image.open(image_path) as img:\n",
    "            # 将图片转换为灰度图\n",
    "            img_gray = img.convert('L')\n",
    "            # 获取图片的直方图数据\n",
    "            histogram = img_gray.histogram()\n",
    "            # 计算亮度值\n",
    "            brightness = sum(i * hist for i, hist in enumerate(histogram)) / (256 * img_gray.size[0] * img_gray.size[1])\n",
    "            return brightness\n",
    "    except Exception as e:\n",
    "        print(f\"Error processing {image_path}: {e}\")\n",
    "        return None\n",
    "\n",
    "def calculate_folder_average_brightness(folder_path):\n",
    "    total_brightness = 0\n",
    "    count = 0\n",
    "    # 遍历文件夹中的所有文件\n",
    "    for filename in os.listdir(folder_path):\n",
    "        if filename.lower().endswith(('.png', '.jpg', '.jpeg', '.bmp', '.gif')):\n",
    "            file_path = os.path.join(folder_path, filename)\n",
    "            brightness = calculate_average_brightness(file_path)\n",
    "            if brightness is not None:\n",
    "                total_brightness += brightness\n",
    "                count += 1\n",
    "    # 计算平均亮度\n",
    "    average_brightness = total_brightness / count if count else 0\n",
    "    return average_brightness"
   ]
  },
  {
   "cell_type": "code",
   "execution_count": 4,
   "metadata": {},
   "outputs": [
    {
     "name": "stdout",
     "output_type": "stream",
     "text": [
      "Error processing ./data/carbonate_1/train/class1\\Vug.127.jpg: broken data stream when reading image file\n",
      "Error processing ./data/carbonate_1/train/class1\\Vug.3809.jpg: image file is truncated (84 bytes not processed)\n",
      "The average brightness of the images in the folder is: 0.33097518827058675\n"
     ]
    }
   ],
   "source": [
    "# 替换为你的图片文件夹路径\n",
    "folder_path = './data/carbonate_1/train/class1'\n",
    "average_brightness = calculate_folder_average_brightness(folder_path)\n",
    "print(f\"The average brightness of the images in the folder is: {average_brightness}\")"
   ]
  },
  {
   "cell_type": "code",
   "execution_count": 5,
   "metadata": {},
   "outputs": [
    {
     "name": "stdout",
     "output_type": "stream",
     "text": [
      "Error processing ./data/carbonate_1/train/class2\\Bioclastics.982.jpg: image file is truncated (84 bytes not processed)\n",
      "The average brightness of the images in the folder is: 0.3372460504177912\n"
     ]
    }
   ],
   "source": [
    "# 替换为你的图片文件夹路径\n",
    "folder_path = './data/carbonate_1/train/class2'\n",
    "average_brightness = calculate_folder_average_brightness(folder_path)\n",
    "print(f\"The average brightness of the images in the folder is: {average_brightness}\")"
   ]
  },
  {
   "cell_type": "code",
   "execution_count": 6,
   "metadata": {},
   "outputs": [
    {
     "name": "stdout",
     "output_type": "stream",
     "text": [
      "The average brightness of the images in the folder is: 0.3133629605835228\n"
     ]
    }
   ],
   "source": [
    "# 替换为你的图片文件夹路径\n",
    "folder_path = './data/carbonate_1/train/class3'\n",
    "average_brightness = calculate_folder_average_brightness(folder_path)\n",
    "print(f\"The average brightness of the images in the folder is: {average_brightness}\")"
   ]
  },
  {
   "cell_type": "code",
   "execution_count": 7,
   "metadata": {},
   "outputs": [
    {
     "name": "stdout",
     "output_type": "stream",
     "text": [
      "The average brightness of the images in the folder is: 0.4223757482601416\n"
     ]
    }
   ],
   "source": [
    "# 替换为你的图片文件夹路径\n",
    "folder_path = './data/carbonate_1/train/class4'\n",
    "average_brightness = calculate_folder_average_brightness(folder_path)\n",
    "print(f\"The average brightness of the images in the folder is: {average_brightness}\")"
   ]
  },
  {
   "cell_type": "code",
   "execution_count": 8,
   "metadata": {},
   "outputs": [
    {
     "name": "stdout",
     "output_type": "stream",
     "text": [
      "The average brightness of the images in the folder is: 0.38163051289118954\n"
     ]
    }
   ],
   "source": [
    "# 替换为你的图片文件夹路径\n",
    "folder_path = './data/carbonate_1/train/class5'\n",
    "average_brightness = calculate_folder_average_brightness(folder_path)\n",
    "print(f\"The average brightness of the images in the folder is: {average_brightness}\")"
   ]
  },
  {
   "cell_type": "code",
   "execution_count": 11,
   "metadata": {},
   "outputs": [
    {
     "name": "stdout",
     "output_type": "stream",
     "text": [
      "The average brightness of the images in the folder is: 0.2597268128069024\n"
     ]
    }
   ],
   "source": [
    "# 替换为你的图片文件夹路径\n",
    "folder_path = './data/carbonate_1/train/class6'\n",
    "average_brightness = calculate_folder_average_brightness(folder_path)\n",
    "print(f\"The average brightness of the images in the folder is: {average_brightness}\")"
   ]
  },
  {
   "cell_type": "code",
   "execution_count": 16,
   "metadata": {},
   "outputs": [
    {
     "name": "stdout",
     "output_type": "stream",
     "text": [
      "The average brightness of the images in the folder is: 0.2923282893789253\n"
     ]
    }
   ],
   "source": [
    "# 替换为你的图片文件夹路径\n",
    "folder_path = './data/carbonate_1/train/class7'\n",
    "average_brightness = calculate_folder_average_brightness(folder_path)\n",
    "print(f\"The average brightness of the images in the folder is: {average_brightness}\")"
   ]
  },
  {
   "cell_type": "code",
   "execution_count": 17,
   "metadata": {},
   "outputs": [
    {
     "name": "stdout",
     "output_type": "stream",
     "text": [
      "The average brightness of the images in the folder is: 0.35693773266394\n"
     ]
    }
   ],
   "source": [
    "# 替换为你的图片文件夹路径\n",
    "folder_path = './data/carbonate_1/train/class8'\n",
    "average_brightness = calculate_folder_average_brightness(folder_path)\n",
    "print(f\"The average brightness of the images in the folder is: {average_brightness}\")"
   ]
  },
  {
   "cell_type": "code",
   "execution_count": 18,
   "metadata": {},
   "outputs": [
    {
     "name": "stdout",
     "output_type": "stream",
     "text": [
      "The average brightness of the images in the folder is: 0.2666758008522117\n"
     ]
    }
   ],
   "source": [
    "# 替换为你的图片文件夹路径\n",
    "folder_path = './data/carbonate_1/train/class9'\n",
    "average_brightness = calculate_folder_average_brightness(folder_path)\n",
    "print(f\"The average brightness of the images in the folder is: {average_brightness}\")"
   ]
  },
  {
   "cell_type": "code",
   "execution_count": 19,
   "metadata": {},
   "outputs": [
    {
     "name": "stdout",
     "output_type": "stream",
     "text": [
      "The average brightness of the images in the folder is: 0.31380846301696813\n"
     ]
    }
   ],
   "source": [
    "# 替换为你的图片文件夹路径\n",
    "folder_path = './data/carbonate_1/train/class10'\n",
    "average_brightness = calculate_folder_average_brightness(folder_path)\n",
    "print(f\"The average brightness of the images in the folder is: {average_brightness}\")"
   ]
  },
  {
   "cell_type": "code",
   "execution_count": 20,
   "metadata": {},
   "outputs": [
    {
     "name": "stdout",
     "output_type": "stream",
     "text": [
      "The average brightness of the images in the folder is: 0.33290304440540297\n"
     ]
    }
   ],
   "source": [
    "# 替换为你的图片文件夹路径\n",
    "folder_path = './data/carbonate_1/train/class11'\n",
    "average_brightness = calculate_folder_average_brightness(folder_path)\n",
    "print(f\"The average brightness of the images in the folder is: {average_brightness}\")"
   ]
  },
  {
   "cell_type": "code",
   "execution_count": 21,
   "metadata": {},
   "outputs": [
    {
     "name": "stdout",
     "output_type": "stream",
     "text": [
      "The average brightness of the images in the folder is: 0.2764888869070286\n"
     ]
    }
   ],
   "source": [
    "# 替换为你的图片文件夹路径\n",
    "folder_path = './data/carbonate_1/train/class12'\n",
    "average_brightness = calculate_folder_average_brightness(folder_path)\n",
    "print(f\"The average brightness of the images in the folder is: {average_brightness}\")"
   ]
  },
  {
   "cell_type": "code",
   "execution_count": 22,
   "metadata": {},
   "outputs": [
    {
     "name": "stdout",
     "output_type": "stream",
     "text": [
      "The average brightness of the images in the folder is: 0.28818781146896333\n"
     ]
    }
   ],
   "source": [
    "# 替换为你的图片文件夹路径\n",
    "folder_path = './data/carbonate_1/train/class13'\n",
    "average_brightness = calculate_folder_average_brightness(folder_path)\n",
    "print(f\"The average brightness of the images in the folder is: {average_brightness}\")"
   ]
  },
  {
   "cell_type": "code",
   "execution_count": 23,
   "metadata": {},
   "outputs": [
    {
     "name": "stdout",
     "output_type": "stream",
     "text": [
      "The average brightness of the images in the folder is: 0.3337536355814673\n"
     ]
    }
   ],
   "source": [
    "# 替换为你的图片文件夹路径\n",
    "folder_path = './data/carbonate_1/train/class14'\n",
    "average_brightness = calculate_folder_average_brightness(folder_path)\n",
    "print(f\"The average brightness of the images in the folder is: {average_brightness}\")"
   ]
  },
  {
   "cell_type": "code",
   "execution_count": 24,
   "metadata": {},
   "outputs": [
    {
     "name": "stdout",
     "output_type": "stream",
     "text": [
      "The average brightness of the images in the folder is: 0.3358926912405155\n"
     ]
    }
   ],
   "source": [
    "# 替换为你的图片文件夹路径\n",
    "folder_path = './data/carbonate_1/train/class15'\n",
    "average_brightness = calculate_folder_average_brightness(folder_path)\n",
    "print(f\"The average brightness of the images in the folder is: {average_brightness}\")"
   ]
  },
  {
   "cell_type": "code",
   "execution_count": 25,
   "metadata": {},
   "outputs": [
    {
     "name": "stdout",
     "output_type": "stream",
     "text": [
      "The average brightness of the images in the folder is: 0.447757771223883\n"
     ]
    }
   ],
   "source": [
    "# 替换为你的图片文件夹路径\n",
    "folder_path = './data/carbonate_1/train/class16'\n",
    "average_brightness = calculate_folder_average_brightness(folder_path)\n",
    "print(f\"The average brightness of the images in the folder is: {average_brightness}\")"
   ]
  },
  {
   "cell_type": "code",
   "execution_count": 26,
   "metadata": {},
   "outputs": [
    {
     "name": "stdout",
     "output_type": "stream",
     "text": [
      "The average brightness of the images in the folder is: 0.40852326746394635\n"
     ]
    }
   ],
   "source": [
    "# 替换为你的图片文件夹路径\n",
    "folder_path = './data/carbonate_1/train/class17'\n",
    "average_brightness = calculate_folder_average_brightness(folder_path)\n",
    "print(f\"The average brightness of the images in the folder is: {average_brightness}\")"
   ]
  },
  {
   "cell_type": "code",
   "execution_count": 10,
   "metadata": {},
   "outputs": [
    {
     "name": "stdout",
     "output_type": "stream",
     "text": [
      "The average brightness of the images in the folder is: 0.2871826674539149\n"
     ]
    }
   ],
   "source": [
    "# 替换为你的图片文件夹路径\n",
    "folder_path = './data/carbonate_1/train/class18'\n",
    "average_brightness = calculate_folder_average_brightness(folder_path)\n",
    "print(f\"The average brightness of the images in the folder is: {average_brightness}\")"
   ]
  },
  {
   "cell_type": "code",
   "execution_count": 12,
   "metadata": {},
   "outputs": [
    {
     "name": "stdout",
     "output_type": "stream",
     "text": [
      "The average brightness of the images in the folder is: 0.3111134787295013\n"
     ]
    }
   ],
   "source": [
    "# 替换为你的图片文件夹路径\n",
    "folder_path = './data/carbonate_1/train/class19'\n",
    "average_brightness = calculate_folder_average_brightness(folder_path)\n",
    "print(f\"The average brightness of the images in the folder is: {average_brightness}\")"
   ]
  },
  {
   "cell_type": "code",
   "execution_count": 13,
   "metadata": {},
   "outputs": [
    {
     "name": "stdout",
     "output_type": "stream",
     "text": [
      "The average brightness of the images in the folder is: 0.31589406825869043\n"
     ]
    }
   ],
   "source": [
    "# 替换为你的图片文件夹路径\n",
    "folder_path = './data/carbonate_1/train/class20'\n",
    "average_brightness = calculate_folder_average_brightness(folder_path)\n",
    "print(f\"The average brightness of the images in the folder is: {average_brightness}\")"
   ]
  },
  {
   "cell_type": "code",
   "execution_count": 14,
   "metadata": {},
   "outputs": [
    {
     "name": "stdout",
     "output_type": "stream",
     "text": [
      "The average brightness of the images in the folder is: 0.2743891597536348\n"
     ]
    }
   ],
   "source": [
    "# 替换为你的图片文件夹路径\n",
    "folder_path = './data/carbonate_1/train/class21'\n",
    "average_brightness = calculate_folder_average_brightness(folder_path)\n",
    "print(f\"The average brightness of the images in the folder is: {average_brightness}\")"
   ]
  },
  {
   "cell_type": "code",
   "execution_count": 15,
   "metadata": {},
   "outputs": [
    {
     "name": "stdout",
     "output_type": "stream",
     "text": [
      "Error processing ./data/carbonate_1/train/class22\\Vug.1349.jpg: image file is truncated (84 bytes not processed)\n",
      "The average brightness of the images in the folder is: 0.3335751872742168\n"
     ]
    }
   ],
   "source": [
    "# 替换为你的图片文件夹路径\n",
    "folder_path = './data/carbonate_1/train/class22'\n",
    "average_brightness = calculate_folder_average_brightness(folder_path)\n",
    "print(f\"The average brightness of the images in the folder is: {average_brightness}\")"
   ]
  }
 ],
 "metadata": {
  "kernelspec": {
   "display_name": "mmlab1",
   "language": "python",
   "name": "python3"
  },
  "language_info": {
   "codemirror_mode": {
    "name": "ipython",
    "version": 3
   },
   "file_extension": ".py",
   "mimetype": "text/x-python",
   "name": "python",
   "nbconvert_exporter": "python",
   "pygments_lexer": "ipython3",
   "version": "3.9.16"
  },
  "orig_nbformat": 4
 },
 "nbformat": 4,
 "nbformat_minor": 2
}
