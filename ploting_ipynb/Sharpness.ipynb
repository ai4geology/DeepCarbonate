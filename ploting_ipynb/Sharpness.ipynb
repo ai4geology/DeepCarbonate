{
 "cells": [
  {
   "cell_type": "code",
   "execution_count": 3,
   "metadata": {},
   "outputs": [],
   "source": [
    "from PIL import Image\n",
    "import os\n",
    "import numpy as np\n",
    "\n",
    "def calculate_sharpness(image_path):\n",
    "    try:\n",
    "        with Image.open(image_path) as img:\n",
    "            # 将图片转换为灰度图\n",
    "            img_gray = img.convert('L')\n",
    "            # 将灰度图转换为numpy数组\n",
    "            img_array = np.array(img_gray)\n",
    "            \n",
    "            # 定义拉普拉斯算子核\n",
    "            laplacian_kernel = np.array([[0, 1, 0],\n",
    "                                        [1, -4, 1],\n",
    "                                        [0, 1, 0]])\n",
    "            \n",
    "            # 应用拉普拉斯算子\n",
    "            laplacian = np.zeros_like(img_array)\n",
    "            for i in range(1, img_array.shape[0] - 1):\n",
    "                for j in range(1, img_array.shape[1] - 1):\n",
    "                    laplacian[i, j] = (laplacian_kernel[0, 0] * img_array[i-1, j-1] +\n",
    "                                      laplacian_kernel[0, 1] * img_array[i-1, j] +\n",
    "                                      laplacian_kernel[0, 2] * img_array[i-1, j+1] +\n",
    "                                      laplacian_kernel[1, 0] * img_array[i, j-1] +\n",
    "                                      laplacian_kernel[1, 1] * img_array[i, j] +\n",
    "                                      laplacian_kernel[1, 2] * img_array[i, j+1] +\n",
    "                                      laplacian_kernel[2, 0] * img_array[i+1, j-1] +\n",
    "                                      laplacian_kernel[2, 1] * img_array[i+1, j] +\n",
    "                                      laplacian_kernel[2, 2] * img_array[i+1, j+1])\n",
    "            \n",
    "            # 计算锐度值（方差）\n",
    "            sharpness_value = np.var(laplacian)\n",
    "            return sharpness_value\n",
    "    except Exception as e:\n",
    "        print(f\"Error processing {image_path}: {e}\")\n",
    "        return None\n",
    "\n",
    "def calculate_folder_sharpness(folder_path):\n",
    "    total_sharpness = 0\n",
    "    count = 0\n",
    "    # 遍历文件夹中的所有文件\n",
    "    for filename in os.listdir(folder_path):\n",
    "        if filename.lower().endswith(('.png', '.jpg', '.jpeg', '.bmp', '.gif')):\n",
    "            file_path = os.path.join(folder_path, filename)\n",
    "            sharpness = calculate_sharpness(file_path)\n",
    "            if sharpness is not None:\n",
    "                total_sharpness += sharpness\n",
    "                count += 1\n",
    "    # 计算平均锐度\n",
    "    average_sharpness = total_sharpness / count if count else 0\n",
    "    return average_sharpness"
   ]
  },
  {
   "cell_type": "code",
   "execution_count": 4,
   "metadata": {},
   "outputs": [
    {
     "name": "stdout",
     "output_type": "stream",
     "text": [
      "Error processing ./data/carbonate_1/train/class1\\Vug.127.jpg: broken data stream when reading image file\n",
      "Error processing ./data/carbonate_1/train/class1\\Vug.3809.jpg: image file is truncated (84 bytes not processed)\n",
      "The average sharpness of the images in the folder is: 13660.13907591662\n"
     ]
    }
   ],
   "source": [
    "# 替换为你的图片文件夹路径\n",
    "folder_path = './data/carbonate_1/train/class1'\n",
    "average_sharpness = calculate_folder_sharpness(folder_path)\n",
    "print(f\"The average sharpness of the images in the folder is: {average_sharpness}\")"
   ]
  },
  {
   "cell_type": "code",
   "execution_count": 5,
   "metadata": {},
   "outputs": [
    {
     "name": "stdout",
     "output_type": "stream",
     "text": [
      "Error processing ./data/carbonate_1/train/class2\\Bioclastics.982.jpg: image file is truncated (84 bytes not processed)\n",
      "The average sharpness of the images in the folder is: 13535.274882014153\n"
     ]
    }
   ],
   "source": [
    "# 替换为你的图片文件夹路径\n",
    "folder_path = './data/carbonate_1/train/class2'\n",
    "average_sharpness = calculate_folder_sharpness(folder_path)\n",
    "print(f\"The average sharpness of the images in the folder is: {average_sharpness}\")"
   ]
  },
  {
   "cell_type": "code",
   "execution_count": 6,
   "metadata": {},
   "outputs": [
    {
     "name": "stdout",
     "output_type": "stream",
     "text": [
      "The average sharpness of the images in the folder is: 13740.335860270297\n"
     ]
    }
   ],
   "source": [
    "# 替换为你的图片文件夹路径\n",
    "folder_path = './data/carbonate_1/train/class3'\n",
    "average_sharpness = calculate_folder_sharpness(folder_path)\n",
    "print(f\"The average sharpness of the images in the folder is: {average_sharpness}\")"
   ]
  },
  {
   "cell_type": "code",
   "execution_count": 7,
   "metadata": {},
   "outputs": [
    {
     "name": "stdout",
     "output_type": "stream",
     "text": [
      "The average sharpness of the images in the folder is: 14827.04573079146\n"
     ]
    }
   ],
   "source": [
    "# 替换为你的图片文件夹路径\n",
    "folder_path = './data/carbonate_1/train/class4'\n",
    "average_sharpness = calculate_folder_sharpness(folder_path)\n",
    "print(f\"The average sharpness of the images in the folder is: {average_sharpness}\")"
   ]
  },
  {
   "cell_type": "code",
   "execution_count": 8,
   "metadata": {},
   "outputs": [
    {
     "name": "stdout",
     "output_type": "stream",
     "text": [
      "The average sharpness of the images in the folder is: 13998.782197747292\n"
     ]
    }
   ],
   "source": [
    "# 替换为你的图片文件夹路径\n",
    "folder_path = './data/carbonate_1/train/class5'\n",
    "average_sharpness = calculate_folder_sharpness(folder_path)\n",
    "print(f\"The average sharpness of the images in the folder is: {average_sharpness}\")"
   ]
  },
  {
   "cell_type": "code",
   "execution_count": 9,
   "metadata": {},
   "outputs": [
    {
     "name": "stdout",
     "output_type": "stream",
     "text": [
      "The average sharpness of the images in the folder is: 13784.066416630565\n"
     ]
    }
   ],
   "source": [
    "# 替换为你的图片文件夹路径\n",
    "folder_path = './data/carbonate_1/train/class6'\n",
    "average_sharpness = calculate_folder_sharpness(folder_path)\n",
    "print(f\"The average sharpness of the images in the folder is: {average_sharpness}\")"
   ]
  },
  {
   "cell_type": "code",
   "execution_count": 10,
   "metadata": {},
   "outputs": [
    {
     "name": "stdout",
     "output_type": "stream",
     "text": [
      "The average sharpness of the images in the folder is: 13997.12006512588\n"
     ]
    }
   ],
   "source": [
    "# 替换为你的图片文件夹路径\n",
    "folder_path = './data/carbonate_1/train/class7'\n",
    "average_sharpness = calculate_folder_sharpness(folder_path)\n",
    "print(f\"The average sharpness of the images in the folder is: {average_sharpness}\")"
   ]
  },
  {
   "cell_type": "code",
   "execution_count": 11,
   "metadata": {},
   "outputs": [
    {
     "name": "stdout",
     "output_type": "stream",
     "text": [
      "The average sharpness of the images in the folder is: 13402.105723207475\n"
     ]
    }
   ],
   "source": [
    "# 替换为你的图片文件夹路径\n",
    "folder_path = './data/carbonate_1/train/class8'\n",
    "average_sharpness = calculate_folder_sharpness(folder_path)\n",
    "print(f\"The average sharpness of the images in the folder is: {average_sharpness}\")"
   ]
  },
  {
   "cell_type": "code",
   "execution_count": 12,
   "metadata": {},
   "outputs": [
    {
     "name": "stdout",
     "output_type": "stream",
     "text": [
      "The average sharpness of the images in the folder is: 13197.603107816773\n"
     ]
    }
   ],
   "source": [
    "# 替换为你的图片文件夹路径\n",
    "folder_path = './data/carbonate_1/train/class9'\n",
    "average_sharpness = calculate_folder_sharpness(folder_path)\n",
    "print(f\"The average sharpness of the images in the folder is: {average_sharpness}\")"
   ]
  },
  {
   "cell_type": "code",
   "execution_count": 13,
   "metadata": {},
   "outputs": [
    {
     "name": "stdout",
     "output_type": "stream",
     "text": [
      "The average sharpness of the images in the folder is: 13877.988701299386\n"
     ]
    }
   ],
   "source": [
    "# 替换为你的图片文件夹路径\n",
    "folder_path = './data/carbonate_1/train/class10'\n",
    "average_sharpness = calculate_folder_sharpness(folder_path)\n",
    "print(f\"The average sharpness of the images in the folder is: {average_sharpness}\")"
   ]
  },
  {
   "cell_type": "code",
   "execution_count": 14,
   "metadata": {},
   "outputs": [
    {
     "name": "stdout",
     "output_type": "stream",
     "text": [
      "The average sharpness of the images in the folder is: 13321.287983258979\n"
     ]
    }
   ],
   "source": [
    "# 替换为你的图片文件夹路径\n",
    "folder_path = './data/carbonate_1/train/class11'\n",
    "average_sharpness = calculate_folder_sharpness(folder_path)\n",
    "print(f\"The average sharpness of the images in the folder is: {average_sharpness}\")"
   ]
  },
  {
   "cell_type": "code",
   "execution_count": 15,
   "metadata": {},
   "outputs": [
    {
     "name": "stdout",
     "output_type": "stream",
     "text": [
      "The average sharpness of the images in the folder is: 13872.49152937762\n"
     ]
    }
   ],
   "source": [
    "# 替换为你的图片文件夹路径\n",
    "folder_path = './data/carbonate_1/train/class12'\n",
    "average_sharpness = calculate_folder_sharpness(folder_path)\n",
    "print(f\"The average sharpness of the images in the folder is: {average_sharpness}\")"
   ]
  },
  {
   "cell_type": "code",
   "execution_count": 16,
   "metadata": {},
   "outputs": [
    {
     "name": "stdout",
     "output_type": "stream",
     "text": [
      "The average sharpness of the images in the folder is: 13506.31225937569\n"
     ]
    }
   ],
   "source": [
    "# 替换为你的图片文件夹路径\n",
    "folder_path = './data/carbonate_1/train/class13'\n",
    "average_sharpness = calculate_folder_sharpness(folder_path)\n",
    "print(f\"The average sharpness of the images in the folder is: {average_sharpness}\")"
   ]
  },
  {
   "cell_type": "code",
   "execution_count": 17,
   "metadata": {},
   "outputs": [
    {
     "name": "stdout",
     "output_type": "stream",
     "text": [
      "The average sharpness of the images in the folder is: 14115.264656889323\n"
     ]
    }
   ],
   "source": [
    "# 替换为你的图片文件夹路径\n",
    "folder_path = './data/carbonate_1/train/class14'\n",
    "average_sharpness = calculate_folder_sharpness(folder_path)\n",
    "print(f\"The average sharpness of the images in the folder is: {average_sharpness}\")"
   ]
  },
  {
   "cell_type": "code",
   "execution_count": 18,
   "metadata": {},
   "outputs": [
    {
     "name": "stdout",
     "output_type": "stream",
     "text": [
      "The average sharpness of the images in the folder is: 14426.820978864167\n"
     ]
    }
   ],
   "source": [
    "# 替换为你的图片文件夹路径\n",
    "folder_path = './data/carbonate_1/train/class15'\n",
    "average_sharpness = calculate_folder_sharpness(folder_path)\n",
    "print(f\"The average sharpness of the images in the folder is: {average_sharpness}\")"
   ]
  },
  {
   "cell_type": "code",
   "execution_count": 19,
   "metadata": {},
   "outputs": [
    {
     "name": "stdout",
     "output_type": "stream",
     "text": [
      "The average sharpness of the images in the folder is: 12592.811126529325\n"
     ]
    }
   ],
   "source": [
    "# 替换为你的图片文件夹路径\n",
    "folder_path = './data/carbonate_1/train/class16'\n",
    "average_sharpness = calculate_folder_sharpness(folder_path)\n",
    "print(f\"The average sharpness of the images in the folder is: {average_sharpness}\")"
   ]
  },
  {
   "cell_type": "code",
   "execution_count": 20,
   "metadata": {},
   "outputs": [
    {
     "name": "stdout",
     "output_type": "stream",
     "text": [
      "The average sharpness of the images in the folder is: 12965.881197369377\n"
     ]
    }
   ],
   "source": [
    "# 替换为你的图片文件夹路径\n",
    "folder_path = './data/carbonate_1/train/class17'\n",
    "average_sharpness = calculate_folder_sharpness(folder_path)\n",
    "print(f\"The average sharpness of the images in the folder is: {average_sharpness}\")"
   ]
  },
  {
   "cell_type": "code",
   "execution_count": 21,
   "metadata": {},
   "outputs": [
    {
     "name": "stdout",
     "output_type": "stream",
     "text": [
      "The average sharpness of the images in the folder is: 13541.16989900163\n"
     ]
    }
   ],
   "source": [
    "# 替换为你的图片文件夹路径\n",
    "folder_path = './data/carbonate_1/train/class18'\n",
    "average_sharpness = calculate_folder_sharpness(folder_path)\n",
    "print(f\"The average sharpness of the images in the folder is: {average_sharpness}\")"
   ]
  },
  {
   "cell_type": "code",
   "execution_count": 22,
   "metadata": {},
   "outputs": [
    {
     "name": "stdout",
     "output_type": "stream",
     "text": [
      "The average sharpness of the images in the folder is: 13019.5818532973\n"
     ]
    }
   ],
   "source": [
    "# 替换为你的图片文件夹路径\n",
    "folder_path = './data/carbonate_1/train/class19'\n",
    "average_sharpness = calculate_folder_sharpness(folder_path)\n",
    "print(f\"The average sharpness of the images in the folder is: {average_sharpness}\")"
   ]
  },
  {
   "cell_type": "code",
   "execution_count": 23,
   "metadata": {},
   "outputs": [
    {
     "name": "stdout",
     "output_type": "stream",
     "text": [
      "The average sharpness of the images in the folder is: 13524.009400233093\n"
     ]
    }
   ],
   "source": [
    "# 替换为你的图片文件夹路径\n",
    "folder_path = './data/carbonate_1/train/class20'\n",
    "average_sharpness = calculate_folder_sharpness(folder_path)\n",
    "print(f\"The average sharpness of the images in the folder is: {average_sharpness}\")"
   ]
  },
  {
   "cell_type": "code",
   "execution_count": 24,
   "metadata": {},
   "outputs": [
    {
     "name": "stdout",
     "output_type": "stream",
     "text": [
      "The average sharpness of the images in the folder is: 13502.990569836891\n"
     ]
    }
   ],
   "source": [
    "# 替换为你的图片文件夹路径\n",
    "folder_path = './data/carbonate_1/train/class21'\n",
    "average_sharpness = calculate_folder_sharpness(folder_path)\n",
    "print(f\"The average sharpness of the images in the folder is: {average_sharpness}\")"
   ]
  },
  {
   "cell_type": "code",
   "execution_count": 25,
   "metadata": {},
   "outputs": [
    {
     "name": "stdout",
     "output_type": "stream",
     "text": [
      "Error processing ./data/carbonate_1/train/class22\\Vug.1349.jpg: image file is truncated (84 bytes not processed)\n",
      "The average sharpness of the images in the folder is: 13622.638006131343\n"
     ]
    }
   ],
   "source": [
    "# 替换为你的图片文件夹路径\n",
    "folder_path = './data/carbonate_1/train/class22'\n",
    "average_sharpness = calculate_folder_sharpness(folder_path)\n",
    "print(f\"The average sharpness of the images in the folder is: {average_sharpness}\")"
   ]
  }
 ],
 "metadata": {
  "kernelspec": {
   "display_name": "jupyterlab",
   "language": "python",
   "name": "python3"
  },
  "language_info": {
   "codemirror_mode": {
    "name": "ipython",
    "version": 3
   },
   "file_extension": ".py",
   "mimetype": "text/x-python",
   "name": "python",
   "nbconvert_exporter": "python",
   "pygments_lexer": "ipython3",
   "version": "3.9.16"
  },
  "orig_nbformat": 4
 },
 "nbformat": 4,
 "nbformat_minor": 2
}
